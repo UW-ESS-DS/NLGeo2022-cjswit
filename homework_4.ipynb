{
 "cells": [
  {
   "cell_type": "markdown",
   "metadata": {},
   "source": [
    "# Homework 3\n",
    "\n",
    "In this homework we will practice basic analysis such as feature extraction and data transforms (Fourier, wavelet), and feature extraction.\n",
    "\n",
    "\n",
    "**1. Ice-shelf seismograms** (10 points)\n",
    "\n",
    "Time-domain filtering, 1D Fourier transform.\n",
    "\n",
    "**2. TEC from the Hunga-Tunga explosion** (10 points)\n",
    "\n",
    "Time-domain filtering, 1D wavelet transform.\n",
    "\n",
    "**3. 2D Crustal model** (10 points)\n",
    "\n",
    "practice reading netcdf, making maps and exploring 2D spectral content.\n",
    "\n"
   ]
  },
  {
   "cell_type": "markdown",
   "metadata": {},
   "source": [
    "## 1) Time Frequency analysis of iceshelf vibrations \n",
    "\n",
    "We will explore the spectral content of the vibrations felt on iceshelves. We first download seismic data, then filter it at different frequency bandwidths, then plot the spectrogram and comment on the data.\n",
    "\n",
    "The seismic data is handled by the Obspy package. Review the obspy tutorial that Ariane.\n",
    "We will download the data presented in: Aster, R.C., Lipovsky, B.P., Cole, H.M., Bromirski, P.D., Gerstoft, P., Nyblade, A., Wiens, D.A. and Stephen, R., 2021. Swell‐Triggered Seismicity at the Near‐Front Damage Zone of the Ross Ice Shelf. Seismological Research Letters. https://doi.org/10.1785/0220200478\n",
    "\n",
    "__Tips__:\n",
    "1. Check out the SciPy filtering help here: https://scipy-cookbook.readthedocs.io/items/ButterworthBandpass.html. Obspy has built in functions as well, but for the sake of practicing, explore the scipy filtering functions.\n",
    "\n",
    "2. The usual steps to handling seismic data are: data download (``get_waveforms``) & removing the instrumental response (``remove_response``).\n",
    "\n",
    "\n",
    "\n",
    "\n",
    "**a. Import the relevant Obspy python modules (1 point).**"
   ]
  },
  {
   "cell_type": "code",
   "execution_count": 42,
   "metadata": {},
   "outputs": [],
   "source": [
    "import geopandas as gpd\n",
    "import matplotlib.pyplot as plt\n",
    "import matplotlib.image as mpimg\n",
    "\n",
    "import netCDF4 as nc\n",
    "import numpy as np\n",
    "import pandas as pd\n",
    "import rasterio\n",
    "import wget\n",
    "import requests, zipfile , os, io\n",
    "\n",
    "from rasterio.mask import mask\n",
    "from rasterio.plot import show\n",
    "\n",
    " \n",
    "\n"
   ]
  },
  {
   "cell_type": "markdown",
   "metadata": {},
   "source": [
    "**b. Data download (1 point)**\n",
    "\n",
    "We will now download the data from station \"DR01\" from seismic network \"XH\", channel \"LHN\" from 1/1/2015 until 3/31/2015. The client will be the \"IRIS\" data center. Obspy functions take on UTCDateTime formatted obspy datetime object, be sure to call or import that specific function. (1 point)"
   ]
  },
  {
   "cell_type": "code",
   "execution_count": 43,
   "metadata": {},
   "outputs": [],
   "source": [
    "# Import the Obspy modules to download seismic data\n",
    "import obspy\n",
    "import obspy.clients.fdsn.client as fdsn\n",
    "from obspy import UTCDateTime"
   ]
  },
  {
   "cell_type": "code",
   "execution_count": 59,
   "metadata": {},
   "outputs": [],
   "source": [
    "# answer below\n",
    "# Download seismic data\n",
    "network = 'XH'\n",
    "station = 'DR01'\n",
    "channel = 'LHN'# this channel gives a low frequency, 1Hz signal.\n",
    "loc = ''\n",
    "Tstart = UTCDateTime(year=2015, month=1, day=1)\n",
    "Tend = UTCDateTime(year=2015, month=3, day=31)\n",
    "fdsn_client = fdsn.Client('IRIS') # client to query the IRIS DMC server\n",
    "\n"
   ]
  },
  {
   "cell_type": "code",
   "execution_count": 60,
   "metadata": {},
   "outputs": [
    {
     "ename": "ValueError",
     "evalue": "The current client does not have a dataselect service.",
     "output_type": "error",
     "traceback": [
      "\u001b[0;31m---------------------------------------------------------------------------\u001b[0m",
      "\u001b[0;31mValueError\u001b[0m                                Traceback (most recent call last)",
      "Cell \u001b[0;32mIn [60], line 1\u001b[0m\n\u001b[0;32m----> 1\u001b[0m Z \u001b[38;5;241m=\u001b[39m fdsn_client\u001b[38;5;241m.\u001b[39mget_waveforms(network\u001b[38;5;241m=\u001b[39mnetwork, client\u001b[38;5;241m=\u001b[39mfdsn_client, station\u001b[38;5;241m=\u001b[39mstation, location\u001b[38;5;241m=\u001b[39m\u001b[38;5;124m'\u001b[39m\u001b[38;5;124m--\u001b[39m\u001b[38;5;124m'\u001b[39m, channel\u001b[38;5;241m=\u001b[39mchannel, starttime\u001b[38;5;241m=\u001b[39mTstart,\n\u001b[1;32m      2\u001b[0m                               endtime\u001b[38;5;241m=\u001b[39mTend, attach_response\u001b[38;5;241m=\u001b[39m\u001b[38;5;28;01mTrue\u001b[39;00m, loc\u001b[38;5;241m=\u001b[39mloc)\n\u001b[1;32m      3\u001b[0m \u001b[38;5;66;03m# Merging data for  gaps, detrend, taper and remiving the seismic instrumental responce  to get to ground motion velocity units\u001b[39;00m\n\u001b[1;32m      5\u001b[0m Z\u001b[38;5;241m.\u001b[39mmerge()\n",
      "File \u001b[0;32m~/opt/anaconda3/envs/mlgeo_sk/lib/python3.9/site-packages/obspy/clients/fdsn/client.py:851\u001b[0m, in \u001b[0;36mClient.get_waveforms\u001b[0;34m(self, network, station, location, channel, starttime, endtime, quality, minimumlength, longestonly, filename, attach_response, **kwargs)\u001b[0m\n\u001b[1;32m    849\u001b[0m \u001b[38;5;28;01mif\u001b[39;00m \u001b[38;5;124m\"\u001b[39m\u001b[38;5;124mdataselect\u001b[39m\u001b[38;5;124m\"\u001b[39m \u001b[38;5;129;01mnot\u001b[39;00m \u001b[38;5;129;01min\u001b[39;00m \u001b[38;5;28mself\u001b[39m\u001b[38;5;241m.\u001b[39mservices:\n\u001b[1;32m    850\u001b[0m     msg \u001b[38;5;241m=\u001b[39m \u001b[38;5;124m\"\u001b[39m\u001b[38;5;124mThe current client does not have a dataselect service.\u001b[39m\u001b[38;5;124m\"\u001b[39m\n\u001b[0;32m--> 851\u001b[0m     \u001b[38;5;28;01mraise\u001b[39;00m \u001b[38;5;167;01mValueError\u001b[39;00m(msg)\n\u001b[1;32m    853\u001b[0m locs \u001b[38;5;241m=\u001b[39m \u001b[38;5;28mlocals\u001b[39m()\n\u001b[1;32m    854\u001b[0m setup_query_dict(\u001b[38;5;124m'\u001b[39m\u001b[38;5;124mdataselect\u001b[39m\u001b[38;5;124m'\u001b[39m, locs, kwargs)\n",
      "\u001b[0;31mValueError\u001b[0m: The current client does not have a dataselect service."
     ]
    }
   ],
   "source": [
    "Z = fdsn_client.get_waveforms(network=network, client=fdsn_client, station=station, location='--', channel=channel, starttime=Tstart,\n",
    "                              endtime=Tend, attach_response=True, loc=loc)\n",
    "# Merging data for  gaps, detrend, taper and remiving the seismic instrumental responce  to get to ground motion velocity units\n",
    "\n",
    "Z.merge()\n",
    "Z.detrend(type='linear')\n",
    "Z[0].taper(max_percentage=0.05)\n",
    "Z[0].remove_response()\n",
    "\n",
    "# call to download noise waveforms\n",
    "N = fdsn_client.get_waveforms(network=network, station=station, location='--', channel=channel, starttime=Tstart-7200,\n",
    "    endtime=Tstart, attach_response=True)\n",
    "# Merging data for  gaps, detrend, taper and remiving the seismic instrumental responce  to get to ground motion velocity units\n",
    "\n",
    "N.merge()\n",
    "N.detrend(type='linear')\n",
    "N[0].taper(max_percentage=0.05)\n",
    "N[0].remove_response()"
   ]
  },
  {
   "cell_type": "markdown",
   "metadata": {},
   "source": [
    "**c. Time series filtering (2 points)**\n",
    "\n",
    "Now we will filter the trace to explore its frequency content. We will apply 3 filters:\n",
    "1. a ``lowpass`` filter to look at seismic frequencies below 0.01Hz, or 100 s period\n",
    "\n",
    "2. a ``bandpass`` filter to look at seismic frequencies between 0.01Hz-0.1 Hz (10-100s)\n",
    "\n",
    "3. a ``highpass`` filter to look at seismic frequencies higher than 0.1 Hz (10s) and until the time series Nyquist frequency (0.5Hz since the data is sampled at 1 Hz)."
   ]
  },
  {
   "cell_type": "code",
   "execution_count": 61,
   "metadata": {},
   "outputs": [],
   "source": [
    "import scipy.signal as signal"
   ]
  },
  {
   "cell_type": "code",
   "execution_count": 62,
   "metadata": {},
   "outputs": [
    {
     "ename": "NameError",
     "evalue": "name 'Z' is not defined",
     "output_type": "error",
     "traceback": [
      "\u001b[0;31m---------------------------------------------------------------------------\u001b[0m",
      "\u001b[0;31mNameError\u001b[0m                                 Traceback (most recent call last)",
      "Cell \u001b[0;32mIn [62], line 5\u001b[0m\n\u001b[1;32m      2\u001b[0m \u001b[38;5;28;01mfrom\u001b[39;00m \u001b[38;5;21;01mscipy\u001b[39;00m\u001b[38;5;21;01m.\u001b[39;00m\u001b[38;5;21;01msignal\u001b[39;00m \u001b[38;5;28;01mimport\u001b[39;00m butter,buttord,  sosfiltfilt, freqs\n\u001b[1;32m      4\u001b[0m \u001b[38;5;66;03m#sampling rate of the data:\u001b[39;00m\n\u001b[0;32m----> 5\u001b[0m fs \u001b[38;5;241m=\u001b[39m Z[\u001b[38;5;241m0\u001b[39m]\u001b[38;5;241m.\u001b[39mstats\u001b[38;5;241m.\u001b[39msampling_rate\n\u001b[1;32m      6\u001b[0m \u001b[38;5;66;03m#signal\u001b[39;00m\n\u001b[1;32m      7\u001b[0m z\u001b[38;5;241m=\u001b[39mnp\u001b[38;5;241m.\u001b[39masarray(Z[\u001b[38;5;241m0\u001b[39m]\u001b[38;5;241m.\u001b[39mdata)\n",
      "\u001b[0;31mNameError\u001b[0m: name 'Z' is not defined"
     ]
    }
   ],
   "source": [
    "# answer below\n",
    "from scipy.signal import butter,buttord,  sosfiltfilt, freqs\n",
    "\n",
    "#sampling rate of the data:\n",
    "fs = Z[0].stats.sampling_rate\n",
    "#signal\n",
    "z=np.asarray(Z[0].data)\n",
    "#noise\n",
    "n=np.asarray(N[0].data)"
   ]
  },
  {
   "cell_type": "code",
   "execution_count": 63,
   "metadata": {},
   "outputs": [
    {
     "ename": "NameError",
     "evalue": "name 'fs' is not defined",
     "output_type": "error",
     "traceback": [
      "\u001b[0;31m---------------------------------------------------------------------------\u001b[0m",
      "\u001b[0;31mNameError\u001b[0m                                 Traceback (most recent call last)",
      "Cell \u001b[0;32mIn [63], line 8\u001b[0m\n\u001b[1;32m      1\u001b[0m \u001b[38;5;66;03m#Butterworth filter to select the spectral content of the waveform. \u001b[39;00m\n\u001b[1;32m      2\u001b[0m \n\u001b[1;32m      3\u001b[0m \n\u001b[0;32m   (...)\u001b[0m\n\u001b[1;32m      6\u001b[0m \u001b[38;5;66;03m#second order section = sos\u001b[39;00m\n\u001b[1;32m      7\u001b[0m \u001b[38;5;66;03m# 2 is the order of the slop the [] is the range of hertz (0 wouldn't work so choose small value near)\u001b[39;00m\n\u001b[0;32m----> 8\u001b[0m sos_lp \u001b[38;5;241m=\u001b[39m signal\u001b[38;5;241m.\u001b[39mbutter(\u001b[38;5;241m2\u001b[39m,[\u001b[38;5;241m0.01\u001b[39m], \u001b[38;5;124m'\u001b[39m\u001b[38;5;124mlp\u001b[39m\u001b[38;5;124m'\u001b[39m, fs\u001b[38;5;241m=\u001b[39mfs, output\u001b[38;5;241m=\u001b[39m\u001b[38;5;124m'\u001b[39m\u001b[38;5;124msos\u001b[39m\u001b[38;5;124m'\u001b[39m)\n\u001b[1;32m     10\u001b[0m zf_lp \u001b[38;5;241m=\u001b[39m signal\u001b[38;5;241m.\u001b[39msosfiltfilt(sos_lp, z)\n\u001b[1;32m     11\u001b[0m nf_lp \u001b[38;5;241m=\u001b[39m signal\u001b[38;5;241m.\u001b[39msosfiltfilt(sos_lp, n)\n",
      "\u001b[0;31mNameError\u001b[0m: name 'fs' is not defined"
     ]
    }
   ],
   "source": [
    "#Butterworth filter to select the spectral content of the waveform. \n",
    "\n",
    "\n",
    "####First lowpass #####\n",
    "\n",
    "#second order section = sos\n",
    "# 2 is the order of the slop the [] is the range of hertz (0 wouldn't work so choose small value near)\n",
    "sos_lp = signal.butter(2,[0.01], 'lp', fs=fs, output='sos')\n",
    "\n",
    "zf_lp = signal.sosfiltfilt(sos_lp, z)\n",
    "nf_lp = signal.sosfiltfilt(sos_lp, n)\n",
    "t_lp=np.arange(0.,7200.,1./fs)"
   ]
  },
  {
   "cell_type": "code",
   "execution_count": 64,
   "metadata": {},
   "outputs": [
    {
     "ename": "NameError",
     "evalue": "name 'fs' is not defined",
     "output_type": "error",
     "traceback": [
      "\u001b[0;31m---------------------------------------------------------------------------\u001b[0m",
      "\u001b[0;31mNameError\u001b[0m                                 Traceback (most recent call last)",
      "Cell \u001b[0;32mIn [64], line 5\u001b[0m\n\u001b[1;32m      1\u001b[0m \u001b[38;5;66;03m#### Band Pass #####\u001b[39;00m\n\u001b[1;32m      2\u001b[0m \n\u001b[1;32m      3\u001b[0m \u001b[38;5;66;03m#second order section = sos\u001b[39;00m\n\u001b[1;32m      4\u001b[0m \u001b[38;5;66;03m# 2 is the order of the slop the [] is the range of hertz (0 wouldn't work so choose small value near)\u001b[39;00m\n\u001b[0;32m----> 5\u001b[0m sos_bp \u001b[38;5;241m=\u001b[39m signal\u001b[38;5;241m.\u001b[39mbutter(\u001b[38;5;241m2\u001b[39m,(\u001b[38;5;241m0.01\u001b[39m,\u001b[38;5;241m0.1\u001b[39m), btype\u001b[38;5;241m=\u001b[39m\u001b[38;5;124m'\u001b[39m\u001b[38;5;124mbp\u001b[39m\u001b[38;5;124m'\u001b[39m, fs\u001b[38;5;241m=\u001b[39mfs, output\u001b[38;5;241m=\u001b[39m\u001b[38;5;124m'\u001b[39m\u001b[38;5;124msos\u001b[39m\u001b[38;5;124m'\u001b[39m)\n\u001b[1;32m      7\u001b[0m zf_bp \u001b[38;5;241m=\u001b[39m signal\u001b[38;5;241m.\u001b[39msosfiltfilt(sos_bp, z)\n\u001b[1;32m      8\u001b[0m nf_bp \u001b[38;5;241m=\u001b[39m signal\u001b[38;5;241m.\u001b[39msosfiltfilt(sos_bp, n)\n",
      "\u001b[0;31mNameError\u001b[0m: name 'fs' is not defined"
     ]
    }
   ],
   "source": [
    "#### Band Pass #####\n",
    "\n",
    "#second order section = sos\n",
    "# 2 is the order of the slop the [] is the range of hertz (0 wouldn't work so choose small value near)\n",
    "sos_bp = signal.butter(2,(0.01,0.1), btype='bp', fs=fs, output='sos')\n",
    "\n",
    "zf_bp = signal.sosfiltfilt(sos_bp, z)\n",
    "nf_bp = signal.sosfiltfilt(sos_bp, n)\n",
    "t_bp=np.arange(0.,7200.,1./fs)"
   ]
  },
  {
   "cell_type": "code",
   "execution_count": null,
   "metadata": {},
   "outputs": [],
   "source": [
    "#### high Pass #####\n",
    "\n",
    "#second order section = sos\n",
    "# 2 is the order of the slop the [] is the range of hertz (0 wouldn't work so choose small value near)\n",
    "sos_hp = signal.butter(2,[0.1], 'hp', fs=fs, output='sos')\n",
    "\n",
    "zf_hp = signal.sosfiltfilt(sos_hp, z)\n",
    "nf_hp = signal.sosfiltfilt(sos_hp, n)\n",
    "t_hp=np.arange(0.,7200.,1./fs)"
   ]
  },
  {
   "cell_type": "markdown",
   "metadata": {},
   "source": [
    "**c. Fourier transform (3 points)**\n",
    "\n",
    "\n",
    "Perform and the Fourier amplitude spectrum of the seismogram. Don't forget to label the figure properly! Use the Fourier frequency vector for x-axis. Use the tutorials for inspirtion."
   ]
  },
  {
   "cell_type": "code",
   "execution_count": null,
   "metadata": {},
   "outputs": [],
   "source": [
    "# import FFT modules\n",
    "from scipy.fftpack import fft, ifft, fftfreq, next_fast_len\n",
    "# answer below\n",
    "\n",
    "\n",
    "npts = Z[0].stats.npts\n",
    "## FFT the signals\n",
    "# fill up until 2^N value to speed up the FFT\n",
    "Nfft = next_fast_len(int(Z[0].data.shape[0])) # this will be an even number\n",
    "freqVec = fftfreq(Nfft, d=Z[0].stats.delta)[:Nfft//2]\n",
    "Z.taper(max_percentage=0.05)\n",
    "Zhat = fft(Z[0].data,n=Nfft)#/np.sqrt(Z[0].stats.npts)"
   ]
  },
  {
   "cell_type": "code",
   "execution_count": null,
   "metadata": {},
   "outputs": [],
   "source": [
    "fig,ax=plt.subplots(2,1,figsize=(10,8))\n",
    "\n",
    "ax[0].plot(freqVec, np.abs(Zhat[:Nfft//2])/Nfft)\n",
    "ax[0].grid(True)\n",
    "ax[0].set_xscale('log');ax[0].set_yscale('log')\n",
    "ax[0].set_xlabel('Frequency (Hz)');ax[0].set_ylabel('Amplitude (m/s)')\n",
    "\n",
    "ax[1].hist(np.angle(Zhat))\n",
    "ax[1].grid(True)"
   ]
  },
  {
   "cell_type": "markdown",
   "metadata": {},
   "source": [
    "Comment on the spectral content of the seismograms. How does the relative contribution of the low, intermediate, and high frequency signal compares with the relative amplitude observed in the bandpass filtered time series?\n",
    "\n",
    "**All of the frequencies are below 1 HZ, and exist mostly between 10^-5 HZ and 0.05 HZ. So a highpass has some of the data, the bandpass has some more than the highpass and the low pass has the most activity.**\n"
   ]
  },
  {
   "cell_type": "markdown",
   "metadata": {},
   "source": [
    "**d. Synthetic noise (3 points)**\n",
    "\n",
    "We have now a good idea of what the amplitude of seismic waves are at this station. Now create a noise signal using the Fourier amplitude spectrum of the seismic signal, and with a random phase. You can use the notes from our first Numpy example (2.7_data_transforms.ipynb)"
   ]
  },
  {
   "cell_type": "code",
   "execution_count": null,
   "metadata": {},
   "outputs": [],
   "source": [
    "z=np.asarray(Z[0].data)"
   ]
  },
  {
   "cell_type": "code",
   "execution_count": null,
   "metadata": {},
   "outputs": [],
   "source": [
    "from numpy import random\n",
    "import numpy.random as random\n",
    "from scipy.fftpack import ifft,ifftshift \n",
    "\n",
    "t=np.arange(0,len(z)-1,1./fs)\n",
    "new_noise= random.uniform(-1,1,len(t))\n",
    "\n"
   ]
  },
  {
   "cell_type": "code",
   "execution_count": null,
   "metadata": {},
   "outputs": [],
   "source": [
    "SNR=100.\n",
    "plt.plot(t,z[:-1]/np.max(np.abs(z[:-1])) + new_noise/SNR);"
   ]
  },
  {
   "cell_type": "code",
   "execution_count": null,
   "metadata": {},
   "outputs": [],
   "source": [
    "SNR=10\n",
    "plt.plot(t,z[:-1]/np.max(np.abs(z[:-1])) + new_noise/SNR);"
   ]
  },
  {
   "cell_type": "code",
   "execution_count": null,
   "metadata": {},
   "outputs": [],
   "source": [
    "SNR=5\n",
    "plt.plot(t,z[:-1]/np.max(np.abs(z[:-1])) + new_noise/SNR);"
   ]
  },
  {
   "cell_type": "code",
   "execution_count": null,
   "metadata": {},
   "outputs": [],
   "source": []
  },
  {
   "cell_type": "code",
   "execution_count": null,
   "metadata": {},
   "outputs": [],
   "source": [
    "Nhat = fft(N[0].data,n=Nfft)\n"
   ]
  },
  {
   "cell_type": "code",
   "execution_count": null,
   "metadata": {},
   "outputs": [],
   "source": [
    "#Final noise!\n",
    "from scipy.fftpack import ifft\n",
    "\n",
    "Nhat = fft(N[0].data,n=Nfft)\n",
    "\n",
    "new_stuff=np.zeros(Nfft)\n",
    "\n",
    "for i in range(Nfft//2):\n",
    "    new_stuff[i] = np.abs(Nhat[i])*random.uniform(-np.pi,np.pi)\n",
    "\n",
    "stuff = ifft(new_stuff)\n",
    "plt.plot(stuff)"
   ]
  },
  {
   "cell_type": "markdown",
   "metadata": {},
   "source": [
    "**e. !Sanity check! (1 point)**\n",
    "\n",
    "Check that the Fourier amplitude spectrum of the noise is that of the original window. Overlay them on a plot "
   ]
  },
  {
   "cell_type": "code",
   "execution_count": null,
   "metadata": {},
   "outputs": [],
   "source": [
    "# answer below\n",
    "npts = Z[0].stats.npts-1\n",
    "## FFT the signals\n",
    "# fill up until 2^N value to speed up the FFT\n",
    "Nfft = next_fast_len(int(Z[0].data.shape[0]-1)) # this will be an even number\n",
    "freqVec = fftfreq(Nfft, d=Z[0].stats.delta)[:Nfft//2]\n",
    "\n",
    "Nat = fft(new_noise,n=Nfft)#/np.sqrt(Z[0].stats.npts)\n",
    "\n",
    "plt.plot(freqVec,np.abs(Nat[:Nfft//2]))\n",
    "plt.xscale('log');plt.yscale('log')\n",
    "\n",
    "Z.taper(max_percentage=0.05)\n",
    "Nhat = fft(N[0].data,n=Nfft)#/np.sqrt(Z[0].stats.npts)\n",
    "\n",
    "plt.plot(freqVec,np.abs(Nhat[:Nfft//2]))\n",
    "plt.xscale('log');plt.yscale('log')"
   ]
  },
  {
   "cell_type": "markdown",
   "metadata": {},
   "source": [
    "**f. Short Time Fourier Transform (3 points)**\n",
    "\n",
    "STFT are important transforms that are used in data science of time series. They are mainly used for denoising and for feature extraction.\n",
    "Spectrograms are STFT with window overlap."
   ]
  },
  {
   "cell_type": "code",
   "execution_count": null,
   "metadata": {},
   "outputs": [],
   "source": [
    "# answer below\n",
    "from scipy.signal import stft\n",
    "f, t, Zxx = stft(n, fs=100,noverlap=200)\n"
   ]
  },
  {
   "cell_type": "markdown",
   "metadata": {},
   "source": [
    "Now you have created a 2D image of a time series! Many seismologists use that as input to convolutional neural networks.\n",
    "\n"
   ]
  },
  {
   "cell_type": "markdown",
   "metadata": {},
   "source": [
    "## 2. Time Series analysis of Hunga- Tonga\n",
    " Ghent and Crowell, 2022: TF representation of the TEC (https://agupubs.onlinelibrary.wiley.com/doi/full/10.1029/2022GL100145). The Total Electron Content (TEC) is the total number of electrons present along a path between a radio transmitter and receiver. TEC is measured in electrons per square meter. By convention, 1 TEC Unit TECU = 10^16 electrons/m². Vertical TEC values in Earth’s ionosphere can range from a few to several hundred TECU.\n",
    "\n",
    " On 15 January 2022, Tonga's Hunga Tonga-Hunga Ha'apai (HTHH) volcano violently erupted, generating a tsunami that killed three people. Acoustic-gravity waves propagated by the eruption and tsunami caused global complex ionospheric disturbances. In this paper, we study the nature of these perturbations from Global Navigation Satellite System observables over the southwestern Pacific. After processing data from 818 ground stations, we detect supersonic acoustic waves, Lamb waves, and tsunamis, with filtered magnitudes between 1 and 7 Total Electron Content units.\n",
    "\n",
    "Apply the Fourier and Wavelet transforms to the TEC time series observed a a GPS section..\n"
   ]
  },
  {
   "cell_type": "markdown",
   "metadata": {},
   "source": [
    "### a. Read the data (1 point)\n",
    "\n",
    "Read the CSV file file ``./TEC/ioncorr_samo_015_2022_tonga.csv``, print the keys of the data frame. THe key ``time`` is a timestamp of seconds since epoch time (1970/01/01). The data shown in the article is in the Series ``variometric_derived_TEC``. **samo** is the name of the GPS receiver. There are up to 32 satellite data saved in the CSV file.\n",
    "\n",
    "Plot the first 2 hours of the time series"
   ]
  },
  {
   "cell_type": "code",
   "execution_count": null,
   "metadata": {},
   "outputs": [],
   "source": [
    "# answer below\n",
    "tonga_path = '/Users/cristianswift/Desktop/Fall-Quarter-2022-2023/Machine_Learning_for_Geoscientist/NLGeo2022_cjswift/homework/homework 4/ioncorr_samo_015_2022_tonga.csv'\n",
    "tonga = pd.read_csv(tonga_path)\n",
    "print(tonga.keys())"
   ]
  },
  {
   "cell_type": "code",
   "execution_count": null,
   "metadata": {},
   "outputs": [],
   "source": [
    "tonga.head()"
   ]
  },
  {
   "cell_type": "markdown",
   "metadata": {},
   "source": [
    "## b. Get station info (0.5 point)\n",
    "Get the station name by splitting the string of the file name and getting the charcater after \"ioncorr\". You can use the python function ``split()``."
   ]
  },
  {
   "cell_type": "code",
   "execution_count": null,
   "metadata": {},
   "outputs": [],
   "source": [
    "# answer below\n",
    "tonga_path.split('ioncorr_')[1]"
   ]
  },
  {
   "cell_type": "markdown",
   "metadata": {},
   "source": [
    "## c. Plot all data (2 points)\n",
    "Make a plot of all vTEC filtered (``variometric_derived_TEC_filtered``) for each satellite. Align the data with the satellite number.\n",
    "\n",
    "Use the ``plot_date`` function from matplotlib. Convert the Series ``time`` from a ``timestamp`` to an Numpy array of dtpe ``datetime64[s]`` (time stamps are in seconds, so we need to use ``[s]``). Plot the data for each sattelite observations."
   ]
  },
  {
   "cell_type": "code",
   "execution_count": null,
   "metadata": {},
   "outputs": [],
   "source": [
    "tonga.time = tonga.time.values.astype('datetime64[s]')"
   ]
  },
  {
   "cell_type": "code",
   "execution_count": null,
   "metadata": {},
   "outputs": [],
   "source": [
    "unqiue_satellite = tonga['satellite_number'].unique()\n",
    "len(unqiue_satellite)\n",
    "    "
   ]
  },
  {
   "cell_type": "code",
   "execution_count": null,
   "metadata": {},
   "outputs": [],
   "source": [
    "unqiue_satellite = tonga['satellite_number'].unique()\n",
    "\n",
    "i,j=0,0\n",
    "fig, axs = plt.subplots(5,5, figsize=(20, 60))\n",
    "\n",
    "plots_per_row = 5\n",
    "\n",
    "for sat in unqiue_satellite:\n",
    "    temp_df = tonga[tonga['satellite_number'] == sat]\n",
    "    \n",
    "    axs[i][j].plot_date(temp_df['time'], temp_df['variometric_derived_TEC'])\n",
    "    axs[i][j].set_xlabel(str('Satellite' + str(sat)))\n",
    "    \n",
    "    j+=1\n",
    "    if j%plots_per_row==0:\n",
    "        i+=1\n",
    "        j=0\n",
    "    \n",
    "\n",
    "plt.show()"
   ]
  },
  {
   "cell_type": "markdown",
   "metadata": {},
   "source": [
    "You can now select one of the satellite observations that contain a full vTEC signal."
   ]
  },
  {
   "cell_type": "code",
   "execution_count": null,
   "metadata": {},
   "outputs": [],
   "source": [
    "# I Choose Satellite23"
   ]
  },
  {
   "cell_type": "markdown",
   "metadata": {},
   "source": [
    "### d. Perform the wavelet transform (3 points)\n",
    "\n",
    "Just like in the article, perform the wavelet transform using a Morlet transform. Select the time series of interest and plot the time series. What can you tell about the time-frequency characteristic of these disturbances?"
   ]
  },
  {
   "cell_type": "code",
   "execution_count": null,
   "metadata": {},
   "outputs": [],
   "source": [
    "# answer below\n",
    "sat23 = tonga[tonga['satellite_number'] == 23]\n",
    "fig, axs = plt.subplots(1, figsize=(6, 8))\n",
    "axs.plot_date(sat23['time'], sat23['variometric_derived_TEC'])"
   ]
  },
  {
   "cell_type": "markdown",
   "metadata": {},
   "source": [
    "Calculate the sampling frequency by taking the time difference between two samples."
   ]
  },
  {
   "cell_type": "code",
   "execution_count": null,
   "metadata": {},
   "outputs": [],
   "source": [
    "#answer below\n",
    "freq = sat23['time'].iloc[1] - sat23['time'].iloc[0]\n",
    "print('The frequency is', freq, 'seconds')"
   ]
  },
  {
   "cell_type": "markdown",
   "metadata": {},
   "source": [
    "Perform the wavelet transform. You may choose a range of wavelet scales from 1 to 50 (write this as an array of integer), and call the ``cwt`` functions using the Morlet wavelet and taking the array of scales as an input argument. Plot it with an x-axis in time (hours) and y-axis in periods."
   ]
  },
  {
   "cell_type": "code",
   "execution_count": null,
   "metadata": {},
   "outputs": [],
   "source": [
    "import scipy.signal as signal\n",
    "# use the number of scales\n",
    "w = range(1,50)\n",
    "widths = w*fs / (2*freq*np.pi)\n",
    "# answer below\n"
   ]
  },
  {
   "cell_type": "markdown",
   "metadata": {},
   "source": [
    "## e. Interpretation (0.5 points)\n",
    "Can you describe the spectral features as a function of hours since the beginning of the time series? What periods dominate when?"
   ]
  },
  {
   "cell_type": "markdown",
   "metadata": {},
   "source": [
    "(answer below)"
   ]
  },
  {
   "cell_type": "markdown",
   "metadata": {},
   "source": [
    "The authors interpret the first packet as coming from a Lamb wave (a powerful gravity-acoustic wave that travel in the lower atmosphere), the second as coming from the tsunami disturbance."
   ]
  },
  {
   "cell_type": "markdown",
   "metadata": {},
   "source": [
    "## 3) 2D Spectral analysis of geological models (10 points)\n",
    "\n",
    "In this exercise we will correlate water table level with surface elevation. You may download the data just like in the class. The file names are ``NCM_GeologicFrameworksGrids.nc``, ``NCM_SpatialGrid.nc``, and ``NCM_AuxData.nc``.\n",
    "\n",
    "We first download the data from our Dropbox folder\n"
   ]
  },
  {
   "cell_type": "code",
   "execution_count": null,
   "metadata": {},
   "outputs": [],
   "source": [
    "import wget\n",
    "file1 = wget.download(\"https://www.dropbox.com/s/wdb25puxh3u07dj/NCM_GeologicFrameworkGrids.nc?dl=1\") #\"./data/NCM_GeologicFrameworkGrids.nc\"\n",
    "# Download the coordinate grids\n",
    "file2 = wget.download(\"https://www.dropbox.com/s/i6tv3ug15oe6yhe/NCM_SpatialGrid.nc?dl=1\") #\"./data/NCM_GeologicFrameworkGrids.nc\"\n",
    "# Download the coordinate grids\n",
    "file3 = wget.download(\"https://www.dropbox.com/s/92m20pehfu7rxp2/NCM_AuxData.nc?dl=1\") #\"./data/NCM_AuxData.nc\"\n"
   ]
  },
  {
   "cell_type": "code",
   "execution_count": null,
   "metadata": {},
   "outputs": [],
   "source": [
    "#os.makedirs('../../data_hw4_3/')\n",
    "os.replace(file1,'../../data/'+file1)\n",
    "os.replace(file2,'../../data/'+file2)\n",
    "os.replace(file3,'../../data/'+file3)"
   ]
  },
  {
   "cell_type": "markdown",
   "metadata": {},
   "source": [
    "\n",
    "In the following we will prepare our data. Read the DataSets using the python NetCDF4 library."
   ]
  },
  {
   "cell_type": "code",
   "execution_count": null,
   "metadata": {},
   "outputs": [],
   "source": [
    "# ansert below\n",
    "import netCDF4 as nc\n",
    "\n",
    "# read data\n",
    "geology = nc.Dataset('../../data/'+file1)\n",
    "grid = nc.Dataset('../../data/'+file2)\n",
    "aux = nc.Dataset('../../data/'+file3)"
   ]
  },
  {
   "cell_type": "code",
   "execution_count": null,
   "metadata": {},
   "outputs": [],
   "source": [
    "grid.variables.keys()"
   ]
  },
  {
   "cell_type": "markdown",
   "metadata": {},
   "source": [
    "**a. Plot (2 points)**\n",
    "\n",
    "Plot the data ``WT`` and ``elevation``, which are data sets from the NC files. Use the matplotlib function``contourf``, and the variables for lat long ``x`` and ``y`` . You can use the argument ``levels`` to the contourf funxtion to split the color map into discrete contour levels, and the transparency argument ``alpha`` to be less than 1."
   ]
  },
  {
   "cell_type": "code",
   "execution_count": null,
   "metadata": {},
   "outputs": [],
   "source": [
    "# answer below\n",
    "# create a grid of latitude and longitude\n",
    "x = grid['x'][0:4901, 0:3201]\n",
    "y = grid['y'][0:4901, 0:3201]\n",
    "WT = aux['Water Table Depth'][0:4901, 0:3201]\n",
    "plt.contourf(x, y, WT, list(range(0,5)), alpha=0.9)\n",
    "\n"
   ]
  },
  {
   "cell_type": "code",
   "execution_count": null,
   "metadata": {},
   "outputs": [],
   "source": [
    "# answer below\n",
    "# create a grid of latitude and longitude\n",
    "x = grid['x'][0:4901, 0:3201]\n",
    "y = grid['y'][0:4901, 0:3201]\n",
    "elevation = geology['Surface Elevation'][0:4901, 0:3201]\n",
    "plt.contourf(x, y, elevation, list(range(0,5)))\n",
    "\n",
    "elevation = geology['Surface Elevation'][0:4901, 0:3201]\n"
   ]
  },
  {
   "cell_type": "markdown",
   "metadata": {},
   "source": [
    "**b. Perform and plot the 2D Fourier transforms (4 points)**"
   ]
  },
  {
   "cell_type": "code",
   "execution_count": null,
   "metadata": {},
   "outputs": [],
   "source": [
    "#First for elevation"
   ]
  },
  {
   "cell_type": "code",
   "execution_count": null,
   "metadata": {},
   "outputs": [],
   "source": [
    "# answer below\n",
    "from scipy.fftpack import fft2, fftfreq,fftshift, ifft2\n",
    "import matplotlib.cm as cm\n",
    "\n",
    "Zel = fft2(elevation)\n",
    "\n",
    "\n",
    "\n",
    "# make a vector of distances. Here I will ignore the curvature and spatial projection.\n",
    "# make the wavenumber frequency vector: \n",
    "Rlon = (xlon-np.min(xlon))*111.25  # convert degrees to kms\n",
    "drlon = Rlon[1]-Rlon[0]\n",
    "print(\"this is about the spatial sampling of the model \",drlon,\" km\")\n",
    "klon = (fftfreq( 4901//2 , drlon  ))\n",
    "\n",
    "\n",
    "Rlat = (xlat-np.min(xlat))*111.25  # convert degrees to kms\n",
    "drlat = Rlat[1]-Rlat[0]\n",
    "print(\"this is about the spatial sampling of the model \",drlat,\" km\")\n",
    "klat = (fftfreq( 3201//2 , drlat  ))\n",
    "\n",
    "# amplitude of the DEM\n",
    "plt.imshow(fftshift(np.log10(np.abs(Zel)/Zel.size)),vmin=-3, vmax=-1, cmap='RdYlBu',extent=[-1,1,-1,1])\n",
    "plt.title('2D FT of elevation')\n",
    "x_label_list = ['-1/3 km$^{-1}$','0','1/3  km$^{-1}$']\n",
    "plt.xticks([-0.5,0,0.5])\n",
    "plt.yticks([-0.5,0,0.5])\n",
    "plt.show()"
   ]
  },
  {
   "cell_type": "code",
   "execution_count": null,
   "metadata": {},
   "outputs": [],
   "source": [
    "# Now for WT "
   ]
  },
  {
   "cell_type": "code",
   "execution_count": null,
   "metadata": {},
   "outputs": [],
   "source": [
    "\n",
    "# answer below\n",
    "from scipy.fftpack import fft2, fftfreq,fftshift, ifft2\n",
    "import matplotlib.cm as cm\n",
    "\n",
    "Zel = fft2(WT)\n",
    "\n",
    "\n",
    "\n",
    "# make a vector of distances. Here I will ignore the curvature and spatial projection.\n",
    "# make the wavenumber frequency vector: \n",
    "Rlon = (xlon-np.min(xlon))*111.25  # convert degrees to kms\n",
    "drlon = Rlon[1]-Rlon[0]\n",
    "print(\"this is about the spatial sampling of the model \",drlon,\" m\")\n",
    "klon = (fftfreq( 4901//2 , drlon  ))\n",
    "\n",
    "\n",
    "Rlat = (xlat-np.min(xlat))*111.25  # convert degrees to kms\n",
    "drlat = Rlat[1]-Rlat[0]\n",
    "print(\"this is about the spatial sampling of the model \",drlat,\" m\")\n",
    "klat = (fftfreq( 3201//2 , drlat  ))\n",
    "\n",
    "# amplitude of the DEM\n",
    "plt.imshow(fftshift(np.log10(np.abs(Zel)/Zel.size)),vmin=-3, vmax=-1, cmap='RdYlBu',extent=[-1,1,-1,1])\n",
    "plt.title('2D FT of Water Table Depth')\n",
    "x_label_list = ['-1/3 km$^{-1}$','0','1/3  m$^{-1}$']\n",
    "plt.xticks([-0.5,0,0.5])\n",
    "plt.yticks([-0.5,0,0.5])\n",
    "plt.show()"
   ]
  },
  {
   "cell_type": "markdown",
   "metadata": {},
   "source": [
    "**c. Interpretation (1 point)**\n",
    "\n",
    "Comment on the wavelengths that dominate the DEM and the water table wavelengths"
   ]
  },
  {
   "cell_type": "markdown",
   "metadata": {},
   "source": [
    "$####### CRYTVUBINOMO;LNJBHGCVLKJ HLJN ANSWERRRR"
   ]
  },
  {
   "cell_type": "markdown",
   "metadata": {},
   "source": [
    "**d. 2D filtering (3 points)**\n",
    "\n",
    "Find a way to low pass filter the image (spectral filtering or convolution)"
   ]
  },
  {
   "cell_type": "code",
   "execution_count": null,
   "metadata": {},
   "outputs": [],
   "source": [
    "from obspy import read\n",
    "import obspy.signal\n",
    "from obspy.signal import filter\n",
    "# sampling rate of the data is 0.01 and below being a lowpass filter:\n",
    "tr = Z[0] \n",
    "tr.data = obspy.signal.filter.lowpass(\n",
    "    tr.data, freq=0.01, df=tr.stats.sampling_rate)\n",
    "\n",
    "z=np.asarray(tr.data)\n",
    "n=np.asarray(tr.data)"
   ]
  },
  {
   "cell_type": "markdown",
   "metadata": {},
   "source": [
    "Now we will filter or compress by taking the largest Fourier coefficients of the image."
   ]
  },
  {
   "cell_type": "code",
   "execution_count": null,
   "metadata": {},
   "outputs": [],
   "source": [
    "# Sort the Fourier coefficients\n",
    "Zel = fft2(Z)\n",
    "Zsort = np.sort(np.abs(np.abs(Zel).reshape(-1)))"
   ]
  },
  {
   "cell_type": "markdown",
   "metadata": {},
   "source": [
    "Plot and reconstruct the image of the water table map with 1% until 10% of the data (like in class)"
   ]
  },
  {
   "cell_type": "code",
   "execution_count": null,
   "metadata": {},
   "outputs": [],
   "source": [
    "from IPython import display\n",
    "import time\n",
    "for keep in (0.1,0.05,0.01):\n",
    "    display.clear_output(wait=True)\n",
    "    thresh = Zsort[int(np.floor( (1-keep)*len(Zsort) ))]\n",
    "    ind = np.abs(Zel)>thresh\n",
    "    Atlow = tr[0] * ind # here we zero out the matrix\n",
    "    # Here we count the number of non-zeros in the matrix\n",
    "    print(\"We are keeping up to %f the number of Fourier coefficients\" % keep)\n",
    "    Alow = ifft2(Atlow).real\n",
    "    plt.contourf(x, y, Alow)\n",
    "    time.sleep(1)"
   ]
  },
  {
   "cell_type": "markdown",
   "metadata": {},
   "source": [
    "Now we will compare the original 2D data set with the Fourier compressed data\n"
   ]
  },
  {
   "cell_type": "code",
   "execution_count": null,
   "metadata": {},
   "outputs": [],
   "source": [
    "keep=0.01\n",
    "thresh = Zsort[int(np.floor( (1-keep)*len(Zsort) ))]\n",
    "ind = np.abs(Zel)>thresh\n",
    "Atlow = Zel * ind # here we zero out the matrix\n",
    "# Here we count the number of non-zeros in the matrix\n",
    "print(\"We are keeping up to %f the number of Fourier coefficients\" % keep)\n",
    "Alow = ifft2(Atlow).real\n",
    "\n",
    "\n",
    "fig,ax=plt.subplots(1,2,figsize=(8,8),sharex=True)\n",
    "ax[0].contourf(x, y, elevation);ax[0].set_title('Original data')\n",
    "ax[0].axis('scaled')\n",
    "ax[1].contourf(x, y, Alow);ax[1].set_title('Compressed data')\n",
    "ax[1].axis('scaled')"
   ]
  }
 ],
 "metadata": {
  "kernelspec": {
   "display_name": "Python 3 (ipykernel)",
   "language": "python",
   "name": "python3"
  },
  "language_info": {
   "codemirror_mode": {
    "name": "ipython",
    "version": 3
   },
   "file_extension": ".py",
   "mimetype": "text/x-python",
   "name": "python",
   "nbconvert_exporter": "python",
   "pygments_lexer": "ipython3",
   "version": "3.9.13"
  },
  "vscode": {
   "interpreter": {
    "hash": "f625eed87f201675869c1975f26c79747f846dd12cd9c70305bdb23b2c204f1d"
   }
  }
 },
 "nbformat": 4,
 "nbformat_minor": 4
}
